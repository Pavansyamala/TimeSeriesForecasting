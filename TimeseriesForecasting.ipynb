{
 "cells": [
  {
   "cell_type": "code",
   "execution_count": 1,
   "id": "f57a6b1f",
   "metadata": {},
   "outputs": [],
   "source": [
    "path = \"D:/BrainDead/timeseriesforecasting/yahoo_stock.csv\""
   ]
  },
  {
   "cell_type": "code",
   "execution_count": 196,
   "id": "59b6b390",
   "metadata": {},
   "outputs": [],
   "source": [
    "import pandas as pd\n",
    "import numpy as np\n",
    "import matplotlib.pyplot as plt\n",
    "import statsmodels\n",
    "from statsmodels.tsa.seasonal import seasonal_decompose\n",
    "from keras.preprocessing.sequence import TimeseriesGenerator\n",
    "from keras.models import Sequential\n",
    "from keras.layers import SimpleRNN , LSTM , GRU  , Dense\n",
    "from keras.losses import MeanSquaredError\n",
    "\n",
    "data = pd.read_csv(path)\n",
    "data.index = data['Date']\n",
    "data.drop(columns = ['Date'] , inplace = True)\n",
    "# results  = seasonal_decompose(data['Volume'])\n",
    "# trend = results.trend\n",
    "# seasonal = results.seasonal\n",
    "# resid = results.resid\n",
    "\n",
    "training_features , testing_features = [] , []\n",
    "for i in tsg:\n",
    "    training_features.append(i[0])\n",
    "    testing_features.append(i[-1])\n",
    "    \n",
    "arr =np.array(training_features)\n",
    "arr = arr.reshape((1725 , 100 ,1))\n",
    "\n",
    "target_column = np.array(testing_features)\n",
    "\n",
    "model1 = Sequential()\n",
    "model1.add(SimpleRNN(100 , input_shape = (100,1)))\n",
    "model1.add(Dense(69 , activation= 'linear'))\n",
    "model1.add(Dense(1 , activation= 'linear'))\n",
    "model1.compile(loss = MeanSquaredError() , metrics = ['accuracy'])\n"
   ]
  },
  {
   "cell_type": "code",
   "execution_count": 200,
   "id": "d2851fd7",
   "metadata": {},
   "outputs": [],
   "source": [
    "req_values = data['Volume'].values"
   ]
  },
  {
   "cell_type": "code",
   "execution_count": 201,
   "id": "0656efb6",
   "metadata": {},
   "outputs": [],
   "source": [
    "scalar = MinMaxScaler()"
   ]
  },
  {
   "cell_type": "code",
   "execution_count": 210,
   "id": "34f6f706",
   "metadata": {},
   "outputs": [],
   "source": [
    "scaled = scalar.fit_transform(req_values.reshape(-1,1))"
   ]
  },
  {
   "cell_type": "code",
   "execution_count": 215,
   "id": "1033c93a",
   "metadata": {},
   "outputs": [],
   "source": [
    "tg = TimeseriesGenerator(scaled , scaled , length = 50 , batch_size=1)"
   ]
  },
  {
   "cell_type": "code",
   "execution_count": 231,
   "id": "36b5230f",
   "metadata": {},
   "outputs": [],
   "source": [
    "features = []\n",
    "target = []\n",
    "for i in tg:\n",
    "    features.append(i[0][0])\n",
    "    target.append(i[-1][0])"
   ]
  },
  {
   "cell_type": "code",
   "execution_count": 232,
   "id": "8781ffae",
   "metadata": {},
   "outputs": [],
   "source": [
    "features = np.array(features)"
   ]
  },
  {
   "cell_type": "code",
   "execution_count": 267,
   "id": "94445461",
   "metadata": {},
   "outputs": [
    {
     "data": {
      "text/plain": [
       "(1775, 50, 1)"
      ]
     },
     "execution_count": 267,
     "metadata": {},
     "output_type": "execute_result"
    }
   ],
   "source": [
    "features.shape"
   ]
  },
  {
   "cell_type": "code",
   "execution_count": 233,
   "id": "5c30d95c",
   "metadata": {},
   "outputs": [],
   "source": [
    "target = np.array(target)"
   ]
  },
  {
   "cell_type": "code",
   "execution_count": 268,
   "id": "c98f36d5",
   "metadata": {},
   "outputs": [
    {
     "data": {
      "text/plain": [
       "(1775, 1)"
      ]
     },
     "execution_count": 268,
     "metadata": {},
     "output_type": "execute_result"
    }
   ],
   "source": [
    "target.shape"
   ]
  },
  {
   "cell_type": "code",
   "execution_count": 238,
   "id": "7413f58b",
   "metadata": {},
   "outputs": [],
   "source": [
    "from sklearn.metrics import r2_score"
   ]
  },
  {
   "cell_type": "code",
   "execution_count": 294,
   "id": "ba68ad43",
   "metadata": {},
   "outputs": [
    {
     "name": "stdout",
     "output_type": "stream",
     "text": [
      "56/56 [==============================] - 9s 51ms/step - loss: 0.1114 - mae: 0.1965\n"
     ]
    },
    {
     "data": {
      "text/plain": [
       "<keras.src.callbacks.History at 0x2697fbd2090>"
      ]
     },
     "execution_count": 294,
     "metadata": {},
     "output_type": "execute_result"
    }
   ],
   "source": [
    "model2 = Sequential()\n",
    "model2.add(LSTM(107 , input_shape = (50,1) , return_sequences=False))\n",
    "model2.add(Dense(69 , activation= 'sigmoid'))\n",
    "model2.add(Dense(units = 1 , activation = 'linear'))\n",
    "model2.compile(loss = MeanSquaredError() , metrics = ['mae'])\n",
    "\n",
    "model2.fit(features , target , epochs=1)"
   ]
  },
  {
   "cell_type": "code",
   "execution_count": 320,
   "id": "789c84d6",
   "metadata": {},
   "outputs": [],
   "source": [
    "k = features[-1].reshape(1,50,1)"
   ]
  },
  {
   "cell_type": "code",
   "execution_count": 322,
   "id": "6691e755",
   "metadata": {},
   "outputs": [
    {
     "data": {
      "text/plain": [
       "array([[[0.35801966],\n",
       "        [0.34395436],\n",
       "        [0.34395436],\n",
       "        [0.34395436],\n",
       "        [0.30850977],\n",
       "        [0.40614082],\n",
       "        [0.32411479],\n",
       "        [0.33035628],\n",
       "        [0.34105173],\n",
       "        [0.34105173],\n",
       "        [0.34105173],\n",
       "        [0.27521796],\n",
       "        [0.29795629],\n",
       "        [0.32834806],\n",
       "        [0.31247459],\n",
       "        [0.43614927],\n",
       "        [0.43614927],\n",
       "        [0.43614927],\n",
       "        [0.36004207],\n",
       "        [0.33617315],\n",
       "        [0.36153275],\n",
       "        [0.37003543],\n",
       "        [0.30330208],\n",
       "        [0.30330208],\n",
       "        [0.30330208],\n",
       "        [0.34737841],\n",
       "        [0.34207521],\n",
       "        [0.49474003],\n",
       "        [0.46546982],\n",
       "        [0.45738789],\n",
       "        [0.45738789],\n",
       "        [0.45738789],\n",
       "        [0.38900254],\n",
       "        [0.37731975],\n",
       "        [0.44997838],\n",
       "        [0.4574834 ],\n",
       "        [0.45654898],\n",
       "        [0.45654898],\n",
       "        [0.45654898],\n",
       "        [0.9370069 ],\n",
       "        [0.61017017],\n",
       "        [0.42764144],\n",
       "        [0.46379846],\n",
       "        [0.44050902],\n",
       "        [0.44050902],\n",
       "        [0.44050902],\n",
       "        [0.51437311],\n",
       "        [0.45211179],\n",
       "        [0.51340126],\n",
       "        [0.39372753]]])"
      ]
     },
     "execution_count": 322,
     "metadata": {},
     "output_type": "execute_result"
    }
   ],
   "source": [
    "k"
   ]
  },
  {
   "cell_type": "code",
   "execution_count": 324,
   "id": "cdfdca62",
   "metadata": {},
   "outputs": [
    {
     "name": "stdout",
     "output_type": "stream",
     "text": [
      "50/50 [==============================] - 0s 4ms/step\n"
     ]
    }
   ],
   "source": [
    "next_value = model2.predict(features[-1], batch_size=1)"
   ]
  },
  {
   "cell_type": "code",
   "execution_count": 325,
   "id": "efcaab71",
   "metadata": {},
   "outputs": [
    {
     "data": {
      "text/plain": [
       "array([[-0.5996045 ],\n",
       "       [-0.5999074 ],\n",
       "       [-0.5999074 ],\n",
       "       [-0.5999074 ],\n",
       "       [-0.60067034],\n",
       "       [-0.59856814],\n",
       "       [-0.60033435],\n",
       "       [-0.6002003 ],\n",
       "       [-0.5999699 ],\n",
       "       [-0.5999699 ],\n",
       "       [-0.5999699 ],\n",
       "       [-0.601386  ],\n",
       "       [-0.6008973 ],\n",
       "       [-0.60024333],\n",
       "       [-0.6005849 ],\n",
       "       [-0.597921  ],\n",
       "       [-0.597921  ],\n",
       "       [-0.597921  ],\n",
       "       [-0.5995611 ],\n",
       "       [-0.60007495],\n",
       "       [-0.59952897],\n",
       "       [-0.59934574],\n",
       "       [-0.6007823 ],\n",
       "       [-0.6007823 ],\n",
       "       [-0.6007823 ],\n",
       "       [-0.59983385],\n",
       "       [-0.59994787],\n",
       "       [-0.596657  ],\n",
       "       [-0.5972887 ],\n",
       "       [-0.5974629 ],\n",
       "       [-0.5974629 ],\n",
       "       [-0.5974629 ],\n",
       "       [-0.59893745],\n",
       "       [-0.5991889 ],\n",
       "       [-0.59762263],\n",
       "       [-0.5974608 ],\n",
       "       [-0.5974809 ],\n",
       "       [-0.5974809 ],\n",
       "       [-0.5974809 ],\n",
       "       [-0.5870902 ],\n",
       "       [-0.5941636 ],\n",
       "       [-0.59810483],\n",
       "       [-0.59732485],\n",
       "       [-0.59782696],\n",
       "       [-0.59782696],\n",
       "       [-0.59782696],\n",
       "       [-0.5962329 ],\n",
       "       [-0.5975768 ],\n",
       "       [-0.5962541 ],\n",
       "       [-0.5988354 ]], dtype=float32)"
      ]
     },
     "execution_count": 325,
     "metadata": {},
     "output_type": "execute_result"
    }
   ],
   "source": [
    "next_value"
   ]
  },
  {
   "cell_type": "code",
   "execution_count": null,
   "id": "aa925242",
   "metadata": {},
   "outputs": [],
   "source": []
  },
  {
   "cell_type": "code",
   "execution_count": null,
   "id": "2553f157",
   "metadata": {},
   "outputs": [],
   "source": []
  },
  {
   "cell_type": "code",
   "execution_count": null,
   "id": "34b94ee7",
   "metadata": {},
   "outputs": [],
   "source": []
  }
 ],
 "metadata": {
  "kernelspec": {
   "display_name": "Python 3 (ipykernel)",
   "language": "python",
   "name": "python3"
  },
  "language_info": {
   "codemirror_mode": {
    "name": "ipython",
    "version": 3
   },
   "file_extension": ".py",
   "mimetype": "text/x-python",
   "name": "python",
   "nbconvert_exporter": "python",
   "pygments_lexer": "ipython3",
   "version": "3.11.5"
  }
 },
 "nbformat": 4,
 "nbformat_minor": 5
}
